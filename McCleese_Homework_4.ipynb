{
  "nbformat": 4,
  "nbformat_minor": 0,
  "metadata": {
    "colab": {
      "provenance": [],
      "authorship_tag": "ABX9TyNoG2LB9u8FBh4enXiGTV3K",
      "include_colab_link": true
    },
    "kernelspec": {
      "name": "python3",
      "display_name": "Python 3"
    },
    "language_info": {
      "name": "python"
    }
  },
  "cells": [
    {
      "cell_type": "markdown",
      "metadata": {
        "id": "view-in-github",
        "colab_type": "text"
      },
      "source": [
        "<a href=\"https://colab.research.google.com/github/mmccleeseschool/Intro-to-machine-Learning/blob/main/McCleese_Homework_4.ipynb\" target=\"_parent\"><img src=\"https://colab.research.google.com/assets/colab-badge.svg\" alt=\"Open In Colab\"/></a>"
      ]
    },
    {
      "cell_type": "code",
      "execution_count": 40,
      "metadata": {
        "colab": {
          "base_uri": "https://localhost:8080/",
          "height": 1000
        },
        "id": "6Pf_sCQ6RJD8",
        "outputId": "eb027ab7-b020-4bfb-b5fd-16965aab4c7a"
      },
      "outputs": [
        {
          "output_type": "stream",
          "name": "stdout",
          "text": [
            "Number of samples: 569\n",
            "Number of features: 30\n",
            "Number of classes: 2\n",
            "Training data shape: (455, 30)\n",
            "Test data shape: (114, 30)\n",
            "Training labels shape: (455,)\n",
            "Test labels shape: (114,)\n",
            "Training accuracy: 0.9428571428571428\n",
            "Test accuracy: 0.9385964912280702\n",
            "              precision    recall  f1-score   support\n",
            "\n",
            "   malignant       0.97      0.86      0.91        42\n",
            "      benign       0.92      0.99      0.95        72\n",
            "\n",
            "    accuracy                           0.94       114\n",
            "   macro avg       0.95      0.92      0.93       114\n",
            "weighted avg       0.94      0.94      0.94       114\n",
            "\n"
          ]
        },
        {
          "output_type": "display_data",
          "data": {
            "text/plain": [
              "<Figure size 640x480 with 2 Axes>"
            ],
            "image/png": "[encoded data removed]"
          },
          "metadata": {}
        },
        {
          "output_type": "stream",
          "name": "stdout",
          "text": [
            "K-Fold Cross-Validation Accuracy Scores: [0.96491228 0.9122807  0.94736842 0.89473684 0.96491228 0.94736842\n",
            " 0.96491228 0.89473684 0.96491228 0.92857143]\n",
            "Mean Accuracy: 0.9384711779448622\n",
            "Standard Deviation: 0.02750305414538902\n",
            "\n",
            "Model: GaussianNB\n",
            "Accuracy Scores: [0.96491228 0.9122807  0.94736842 0.89473684 0.96491228 0.94736842\n",
            " 0.96491228 0.89473684 0.96491228 0.92857143]\n",
            "Mean Accuracy: 0.9385\n",
            "Standard Deviation: 0.0275\n",
            "\n",
            "Model: KNeighborsClassifier\n",
            "Accuracy Scores: [0.92982456 0.94736842 0.89473684 0.92982456 0.92982456 0.94736842\n",
            " 0.89473684 0.94736842 0.94736842 0.91071429]\n",
            "Mean Accuracy: 0.9279\n",
            "Standard Deviation: 0.0201\n",
            "\n",
            "Model: LogisticRegression\n",
            "Accuracy Scores: [0.98245614 0.9122807  0.89473684 0.96491228 1.         0.94736842\n",
            " 0.96491228 0.92982456 0.94736842 0.96428571]\n",
            "Mean Accuracy: 0.9508\n",
            "Standard Deviation: 0.0302\n",
            "\n",
            "Model: SVC\n",
            "Accuracy Scores: [0.96491228 0.89473684 0.85964912 0.94736842 0.9122807  0.92982456\n",
            " 0.85964912 0.94736842 0.94736842 0.92857143]\n",
            "Mean Accuracy: 0.9192\n",
            "Standard Deviation: 0.0352\n"
          ]
        }
      ],
      "source": [
        "from sklearn.model_selection import KFold, cross_val_score, GridSearchCV, train_test_split\n",
        "from sklearn.datasets import load_breast_cancer\n",
        "from sklearn.neighbors import KNeighborsClassifier\n",
        "from sklearn.linear_model import LogisticRegression\n",
        "from sklearn.svm import SVC\n",
        "from sklearn.naive_bayes import GaussianNB\n",
        "from sklearn.metrics import accuracy_score, confusion_matrix, ConfusionMatrixDisplay, classification_report\n",
        "import matplotlib.pyplot as plt\n",
        "import numpy as np\n",
        "\n",
        "\n",
        "#loading the dataset\n",
        "breast_cancer = load_breast_cancer()\n",
        "\n",
        "#print(breast_cancer.DESCR)\n",
        "\n",
        "#checking the samples and target sizes\n",
        "n_samples, n_features = breast_cancer.data.shape\n",
        "n_classes = len(breast_cancer.target_names)\n",
        "\n",
        "print(f'Number of samples: {n_samples}')\n",
        "print(f'Number of features: {n_features}')\n",
        "print(f'Number of classes: {n_classes}')\n",
        "\n",
        "#splitting the data for training and testing\n",
        "X_train, X_test, y_train, y_test = train_test_split(breast_cancer.data, breast_cancer.target, test_size=0.2, random_state=11, stratify=breast_cancer.target)\n",
        "\n",
        "print(f'Training data shape: {X_train.shape}')\n",
        "print(f'Test data shape: {X_test.shape}')\n",
        "print(f'Training labels shape: {y_train.shape}')\n",
        "print(f'Test labels shape: {y_test.shape}')\n",
        "\n",
        "#creating and training the model\n",
        "model = GaussianNB()\n",
        "model.fit(X_train, y_train)\n",
        "y_pred = model.predict(X_test)\n",
        "accuracy = accuracy_score(y_test, y_pred)\n",
        "\n",
        "print(f'Training accuracy: {model.score(X_train, y_train)}')\n",
        "print(f'Test accuracy: {model.score(X_test, y_test)}')\n",
        "\n",
        "#classification report\n",
        "report = classification_report(y_test, y_pred, target_names=breast_cancer.target_names)\n",
        "print(report)\n",
        "\n",
        "#confusion matrix\n",
        "cm = confusion_matrix(y_test, y_pred)\n",
        "disp = ConfusionMatrixDisplay(confusion_matrix=cm, display_labels=breast_cancer.target_names)\n",
        "disp.plot(cmap=plt.cm.Blues)\n",
        "plt.show()\n",
        "\n",
        "\n",
        "#k-fold cross validation\n",
        "kfold = KFold(n_splits=10, random_state=11, shuffle=True)\n",
        "X = breast_cancer.data\n",
        "y = breast_cancer.target\n",
        "\n",
        "scores = cross_val_score(model, X, y, cv=kfold)\n",
        "\n",
        "print(f'K-Fold Cross-Validation Accuracy Scores: {scores}')\n",
        "print(f'Mean Accuracy: {np.mean(scores)}')\n",
        "print(f'Standard Deviation: {np.std(scores)}')\n",
        "\n",
        "#running multiple models to find the best one\n",
        "estimators = {'GaussianNB': GaussianNB(),\n",
        "              'KNeighborsClassifier': KNeighborsClassifier(),\n",
        "              'LogisticRegression': LogisticRegression(solver='lbfgs', multi_class='ovr', max_iter=10000),\n",
        "              'SVC': SVC(gamma='scale')\n",
        "              }\n",
        "\n",
        "result = {}\n",
        "for name, model in estimators.items():\n",
        "  scores = cross_val_score(model, X, y, cv=kfold)\n",
        "  result[name] =  {'scores' : scores,\n",
        "                   'mean_accuracy' : np.mean(scores),\n",
        "                   'std_deviation':np.std(scores)\n",
        "                   }\n",
        "\n",
        "for name, result in result.items():\n",
        "  print(f\"\\nModel: {name}\")\n",
        "  print(f\"Accuracy Scores: {result['scores']}\")\n",
        "  print(f\"Mean Accuracy: {result['mean_accuracy']:.4f}\")\n",
        "  print(f\"Standard Deviation: {result['std_deviation']:.4f}\")\n",
        ""
      ]
    }
  ]
}